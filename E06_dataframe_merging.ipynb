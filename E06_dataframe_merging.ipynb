{
 "cells": [
  {
   "cell_type": "code",
   "execution_count": 7,
   "metadata": {},
   "outputs": [
    {
     "name": "stdout",
     "output_type": "stream",
     "text": [
      "   id     Name  PRN subject_id\n",
      "0   1    Tejas  112       sub1\n",
      "1   2       TP  130       sub2\n",
      "2   3     Abhi  122       sub4\n",
      "3   4  Shekhar  102       sub6\n",
      "4   5    Ketan   95       sub5\n"
     ]
    }
   ],
   "source": [
    "import pandas as pd\n",
    "import numpy as np\n",
    "left = pd.DataFrame({\n",
    " 'id':[1,2,3,4,5],\n",
    " 'Name': ['Tejas', 'TP', 'Abhi', 'Shekhar', 'Ketan'],\n",
    " 'PRN':[112,130,122,102,95],\n",
    "'subject_id':['sub1','sub2','sub4','sub6','sub5']})\n",
    "print(left)"
   ]
  },
  {
   "cell_type": "code",
   "execution_count": 8,
   "metadata": {},
   "outputs": [
    {
     "name": "stdout",
     "output_type": "stream",
     "text": [
      "   id       Name  PRN subject_id\n",
      "0   1     Tushar   98       sub2\n",
      "1   2     Yogesh  105       sub4\n",
      "2   3    Shubham  116       sub3\n",
      "3   4     Kartik  135       sub6\n",
      "4   5  Prathmesh  125       sub5\n"
     ]
    }
   ],
   "source": [
    "right = pd.DataFrame({\n",
    " 'id':[1,2,3,4,5],\n",
    " 'Name': ['Tushar', 'Yogesh', 'Shubham', 'Kartik', 'Prathmesh'],\n",
    " 'PRN':[98,105,116,135,125],\n",
    "'subject_id':['sub2','sub4','sub3','sub6','sub5']})\n",
    "print(right)"
   ]
  },
  {
   "cell_type": "code",
   "execution_count": 9,
   "metadata": {},
   "outputs": [
    {
     "name": "stdout",
     "output_type": "stream",
     "text": [
      "   id   Name_x  PRN_x subject_id_x     Name_y  PRN_y subject_id_y\n",
      "0   1    Tejas    112         sub1     Tushar     98         sub2\n",
      "1   2       TP    130         sub2     Yogesh    105         sub4\n",
      "2   3     Abhi    122         sub4    Shubham    116         sub3\n",
      "3   4  Shekhar    102         sub6     Kartik    135         sub6\n",
      "4   5    Ketan     95         sub5  Prathmesh    125         sub5\n"
     ]
    }
   ],
   "source": [
    "print(pd.merge(left,right,on='id'))"
   ]
  },
  {
   "cell_type": "code",
   "execution_count": 10,
   "metadata": {},
   "outputs": [
    {
     "name": "stdout",
     "output_type": "stream",
     "text": [
      "Empty DataFrame\n",
      "Columns: [id, Name_x, PRN, subject_id_x, Name_y, subject_id_y]\n",
      "Index: []\n"
     ]
    }
   ],
   "source": [
    "print(pd.merge(left,right,on=['id','PRN']))"
   ]
  },
  {
   "cell_type": "code",
   "execution_count": 11,
   "metadata": {},
   "outputs": [
    {
     "name": "stdout",
     "output_type": "stream",
     "text": [
      "   id   Name_x  PRN_x subject_id     Name_y  PRN_y\n",
      "0   4  Shekhar    102       sub6     Kartik    135\n",
      "1   5    Ketan     95       sub5  Prathmesh    125\n"
     ]
    }
   ],
   "source": [
    "print(pd.merge(left,right,on=['id','subject_id']))"
   ]
  },
  {
   "cell_type": "code",
   "execution_count": 12,
   "metadata": {},
   "outputs": [
    {
     "name": "stdout",
     "output_type": "stream",
     "text": [
      "   id_x   Name_x  PRN_x subject_id  id_y     Name_y  PRN_y\n",
      "0     1    Tejas    112       sub1   NaN        NaN    NaN\n",
      "1     2       TP    130       sub2   1.0     Tushar   98.0\n",
      "2     3     Abhi    122       sub4   2.0     Yogesh  105.0\n",
      "3     4  Shekhar    102       sub6   4.0     Kartik  135.0\n",
      "4     5    Ketan     95       sub5   5.0  Prathmesh  125.0\n"
     ]
    }
   ],
   "source": [
    "print(pd.merge(left, right, on='subject_id', how='left'))"
   ]
  },
  {
   "cell_type": "code",
   "execution_count": 13,
   "metadata": {},
   "outputs": [
    {
     "name": "stdout",
     "output_type": "stream",
     "text": [
      "   id_x   Name_x  PRN_x subject_id  id_y     Name_y  PRN_y\n",
      "0   2.0       TP  130.0       sub2     1     Tushar     98\n",
      "1   3.0     Abhi  122.0       sub4     2     Yogesh    105\n",
      "2   NaN      NaN    NaN       sub3     3    Shubham    116\n",
      "3   4.0  Shekhar  102.0       sub6     4     Kartik    135\n",
      "4   5.0    Ketan   95.0       sub5     5  Prathmesh    125\n"
     ]
    }
   ],
   "source": [
    "print(pd.merge(left, right, on='subject_id', how='right'))"
   ]
  },
  {
   "cell_type": "code",
   "execution_count": 14,
   "metadata": {},
   "outputs": [
    {
     "name": "stdout",
     "output_type": "stream",
     "text": [
      "   id_x   Name_x  PRN_x subject_id  id_y     Name_y  PRN_y\n",
      "0   1.0    Tejas  112.0       sub1   NaN        NaN    NaN\n",
      "1   2.0       TP  130.0       sub2   1.0     Tushar   98.0\n",
      "2   3.0     Abhi  122.0       sub4   2.0     Yogesh  105.0\n",
      "3   4.0  Shekhar  102.0       sub6   4.0     Kartik  135.0\n",
      "4   5.0    Ketan   95.0       sub5   5.0  Prathmesh  125.0\n",
      "5   NaN      NaN    NaN       sub3   3.0    Shubham  116.0\n"
     ]
    }
   ],
   "source": [
    "print(pd.merge(left, right, on='subject_id', how='outer'))"
   ]
  },
  {
   "cell_type": "code",
   "execution_count": 15,
   "metadata": {},
   "outputs": [
    {
     "name": "stdout",
     "output_type": "stream",
     "text": [
      "   id_x   Name_x  PRN_x subject_id  id_y     Name_y  PRN_y\n",
      "0     2       TP    130       sub2     1     Tushar     98\n",
      "1     3     Abhi    122       sub4     2     Yogesh    105\n",
      "2     4  Shekhar    102       sub6     4     Kartik    135\n",
      "3     5    Ketan     95       sub5     5  Prathmesh    125\n"
     ]
    }
   ],
   "source": [
    "print(pd.merge(left, right, on='subject_id', how='inner'))"
   ]
  },
  {
   "cell_type": "code",
   "execution_count": null,
   "metadata": {},
   "outputs": [],
   "source": []
  }
 ],
 "metadata": {
  "kernelspec": {
   "display_name": "Python 3",
   "language": "python",
   "name": "python3"
  },
  "language_info": {
   "codemirror_mode": {
    "name": "ipython",
    "version": 3
   },
   "file_extension": ".py",
   "mimetype": "text/x-python",
   "name": "python",
   "nbconvert_exporter": "python",
   "pygments_lexer": "ipython3",
   "version": "3.8.5"
  }
 },
 "nbformat": 4,
 "nbformat_minor": 4
}
